{
 "cells": [
  {
   "cell_type": "markdown",
   "id": "30a2e454-08b2-4b8a-8a87-08bcff7dd424",
   "metadata": {},
   "source": [
    "## Example notebook for downloading  FerryBox data from nivacloud"
   ]
  },
  {
   "cell_type": "code",
   "execution_count": null,
   "id": "f96cebe9",
   "metadata": {
    "collapsed": false,
    "jupyter": {
     "outputs_hidden": false
    }
   },
   "outputs": [],
   "source": [
    "import warnings\n",
    "warnings.filterwarnings(\"ignore\")\n",
    "from pyniva import Vessel, PUB_META, PUB_TSB, token2header\n",
    "import pyniva \n"
   ]
  },
  {
   "cell_type": "code",
   "execution_count": null,
   "id": "cab33d6d",
   "metadata": {},
   "outputs": [],
   "source": [
    "\n",
    "header = token2header(\"your-service-account.json\")"
   ]
  },
  {
   "cell_type": "markdown",
   "id": "bdbd4581",
   "metadata": {},
   "source": [
    " ### Change the content of the cell below to match you use case, specify platfrom for the data and start/stop datetimes for the query"
   ]
  },
  {
   "cell_type": "code",
   "execution_count": null,
   "id": "d407387d",
   "metadata": {
    "collapsed": false,
    "jupyter": {
     "outputs_hidden": false
    }
   },
   "outputs": [],
   "source": [
    "platform_code = \"RW\"\n",
    "start_time = \"2023-03-01T00:00:00\"\n",
    "end_time = \"2023-03-09T16:00:00\""
   ]
  },
  {
   "cell_type": "markdown",
   "id": "fb1da1c4",
   "metadata": {},
   "source": [
    "## Run the next cell to see all available paths for the ship (paths correspond to parameters)"
   ]
  },
  {
   "cell_type": "code",
   "execution_count": null,
   "id": "5cc9968a",
   "metadata": {
    "collapsed": false,
    "jupyter": {
     "outputs_hidden": false
    }
   },
   "outputs": [],
   "source": [
    "available_paths = pyniva.get_available_parameters(platform_code='RW',\n",
    "                                                  header = header, \n",
    "                                                  meta_host = PUB_META, \n",
    "                                                  exclude_tests=True)\n",
    "\n",
    "available_paths"
   ]
  },
  {
   "cell_type": "markdown",
   "id": "82ea8fb3-f3c6-4e41-9558-a9dec853462f",
   "metadata": {
    "jupyter": {
     "outputs_hidden": false
    }
   },
   "source": [
    "## Modify the cell below (copy for the paths printed above) "
   ]
  },
  {
   "cell_type": "code",
   "execution_count": null,
   "id": "87300b71",
   "metadata": {
    "collapsed": false,
    "jupyter": {
     "outputs_hidden": false
    }
   },
   "outputs": [],
   "source": [
    "platform_code = 'RW'\n",
    "start_time = \"2025-02-01T00:00:00\"\n",
    "end_time = \"2025-03-09T16:00:00\"\n",
    "paths_to_download = [\n",
    "    'RW/FERRYBOX/SBE45/SALINITY/RAW','RW/INLET/SBE38/TEMPERATURE/RAW']  \n",
    "# Even if you want to download only one parameter, it has to be a list []\n",
    "fb_data = pyniva.get_ship_data(platform_code, paths_to_download, start_time, end_time, noqc=True, header = header)"
   ]
  },
  {
   "cell_type": "code",
   "execution_count": null,
   "id": "a5425fce-f79b-4d3d-bb09-e7c839c4ad1a",
   "metadata": {},
   "outputs": [],
   "source": [
    "fb_data.describe()"
   ]
  },
  {
   "cell_type": "markdown",
   "id": "101f446f",
   "metadata": {
    "tags": []
   },
   "source": [
    "### Save dataframe (you can modify path, filename)"
   ]
  },
  {
   "cell_type": "code",
   "execution_count": 30,
   "id": "f404783f",
   "metadata": {
    "collapsed": false,
    "jupyter": {
     "outputs_hidden": false
    }
   },
   "outputs": [],
   "source": [
    "path_for_file = f\"{platform_code}_{start_time}_{end_time}.csv\"\n",
    "fb_data.to_csv(path_for_file, index=False, sep=\",\")"
   ]
  }
 ],
 "metadata": {
  "kernelspec": {
   "display_name": "Python 3 (ipykernel)",
   "language": "python",
   "name": "python3"
  },
  "language_info": {
   "codemirror_mode": {
    "name": "ipython",
    "version": 3
   },
   "file_extension": ".py",
   "mimetype": "text/x-python",
   "name": "python",
   "nbconvert_exporter": "python",
   "pygments_lexer": "ipython3",
   "version": "3.10.6"
  }
 },
 "nbformat": 4,
 "nbformat_minor": 5
}
