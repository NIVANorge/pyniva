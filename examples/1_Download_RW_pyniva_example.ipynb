{
 "cells": [
  {
   "cell_type": "markdown",
   "id": "30a2e454-08b2-4b8a-8a87-08bcff7dd424",
   "metadata": {},
   "source": [
    "## Example notebook for downloading  FerryBox data from nivacloud"
   ]
  },
  {
   "cell_type": "code",
   "execution_count": null,
   "id": "f96cebe9",
   "metadata": {
    "collapsed": false,
    "jupyter": {
     "outputs_hidden": false
    }
   },
   "outputs": [],
   "source": [
    "import warnings\n",
    "warnings.filterwarnings(\"ignore\")\n",
    "from pyniva import Vessel, PUB_META, PUB_TSB, token2header\n",
    "import pyniva \n",
    "#from utils_pyniva import *"
   ]
  },
  {
   "cell_type": "code",
   "execution_count": null,
   "id": "cab33d6d",
   "metadata": {},
   "outputs": [],
   "source": [
    "\n",
    "header = token2header(\"your-service-account.json\")"
   ]
  },
  {
   "cell_type": "markdown",
   "id": "bdbd4581",
   "metadata": {},
   "source": [
    " ### Change the content of the cell below to match you use case, specify platfrom for the data and start/stop datetimes for the query"
   ]
  },
  {
   "cell_type": "code",
   "execution_count": null,
   "id": "d407387d",
   "metadata": {
    "collapsed": false,
    "jupyter": {
     "outputs_hidden": false
    }
   },
   "outputs": [],
   "source": [
    "platform_code = \"RW\"\n",
    "start_time = \"2023-03-01T00:00:00\"\n",
    "end_time = \"2023-03-09T16:00:00\""
   ]
  },
  {
   "cell_type": "markdown",
   "id": "fb1da1c4",
   "metadata": {},
   "source": [
    "## Run the next cell to see all available paths for the ship (paths correspond to parameters)"
   ]
  },
  {
   "cell_type": "code",
   "execution_count": null,
   "id": "5cc9968a",
   "metadata": {
    "collapsed": false,
    "jupyter": {
     "outputs_hidden": false
    }
   },
   "outputs": [
    {
     "name": "stdout",
     "output_type": "stream",
     "text": [
      "['NB/FERRYBOX/AML/TURBIDITY/RAW', 'NB/FERRYBOX/C3/CDOM_FLUORESCENCE/ADJUSTED', 'NB/FERRYBOX/C3/CDOM_FLUORESCENCE/RAW', 'NB/FERRYBOX/C3/CHLA_FLUORESCENCE/ADJUSTED', 'NB/FERRYBOX/C3/CHLA_FLUORESCENCE/RAW', 'NB/FERRYBOX/C3/TEMPERATURE/RAW', 'NB/FERRYBOX/C3/TURBIDITY/ADJUSTED', 'NB/FERRYBOX/C3/TURBIDITY/RAW', 'NB/FERRYBOX/FLOW/FLOW/RAW', 'NB/FERRYBOX/FLOW/SPEED/RAW', 'NB/FERRYBOX/OPTODE/OXYGEN_CONCENTRATION/RAW', 'NB/FERRYBOX/OPTODE/OXYGEN_SATURATION/RAW', 'NB/FERRYBOX/OPTODE/TEMPERATURE/RAW', 'NB/FERRYBOX/SBE45/CONDUCTIVITY/RAW', 'NB/FERRYBOX/SBE45/SALINITY/RAW', 'NB/FERRYBOX/SBE45/TEMPERATURE/RAW', 'NB/FERRYBOX/TRIOS_MICROFLU_CDOM/CDOM_FLUORESCENCE/ADJUSTED', 'NB/FERRYBOX/TRIOS_MICROFLU_CDOM/CDOM_FLUORESCENCE/RAW', 'NB/FERRYBOX/TRIOS_MICROFLU_CHLA/CHLA_FLUORESCENCE/ADJUSTED', 'NB/FERRYBOX/TRIOS_MICROFLU_CHLA/CHLA_FLUORESCENCE/CALIBRATED_FROM_SAMPLES', 'NB/FERRYBOX/TRIOS_MICROFLU_CHLA/CHLA_FLUORESCENCE/CORRECTED_FOR_BIOFOULING', 'NB/FERRYBOX/TRIOS_MICROFLU_CHLA/CHLA_FLUORESCENCE/RAW', 'NB/GPS/HEADING', 'NB/GPS/YAW', 'NB/INLET/SBE38/TEMPERATURE/RAW', 'NB/NAVIGATION/GPS/COURSE/RAW', 'NB/NAVIGATION/GPS/DATE/RAW', 'NB/NAVIGATION/GPS/LATITUDE/RAW', 'NB/NAVIGATION/GPS/LONGITUDE/RAW', 'NB/NAVIGATION/GPS/SPEED/RAW', 'NB/NAVIGATION/GPS/TIME/RAW', 'NB/NAVIGATION/GYRO/HEADING/RAW', 'NB/NAVIGATION/PORT/CURRENT_PORT_NAME/RAW', 'NB/NAVIGATION/PORT/IN_PORT_FLAG/RAW', 'NB/NAVIGATION/PORT/LAST_PORT_NAME/RAW', 'NB/PCO2/SERIAL_NUMBER', 'NB/PCO2/TEMPERATURE', 'NB/PCO2_BOX/FERRYBOX/REFERENCE_SALINITY/RAW', 'NB/PCO2_BOX/FERRYBOX/REFERENCE_TEMPERATURE/RAW', 'NB/PCO2_BOX/NAVIGATION/LATITUDE/RAW', 'NB/PCO2_BOX/NAVIGATION/LONGITUDE/RAW', 'NB/PCO2_BOX/PCO2/DATETIME/RAW', 'NB/PCO2_BOX/PCO2/LEAK_FLAG/RAW', 'NB/PCO2_BOX/PCO2/PCO2_CONCENTRATION/ADJUSTED', 'NB/PCO2_BOX/PCO2/PCO2_CONCENTRATION/RAW', 'NB/PCO2_BOX/PCO2/PRESSURE_AT_DETECTOR/RAW', 'NB/PCO2_BOX/PCO2/TEMPERATURE_AT_DETECTOR/RAW', 'NB/PCO2_BOX/PCO2/TEMPERATURE_BEHIND_MEMBRANE/RAW', 'NB/PCO2_BOX/PCO2/WATER_FLOW/RAW', 'NB/PCO2_BOX/PCO2/WATER_PRESSURE/RAW', 'NB/PCO2_BOX/PCO2/WATER_TEMPERATURE/RAW', 'NB/PH_BOX/FERRYBOX/REFERENCE_SALINITY/RAW', 'NB/PH_BOX/FERRYBOX/REFERENCE_TEMPERATURE/RAW', 'NB/PH_BOX/NAVIGATION/LATITUDE/RAW', 'NB/PH_BOX/NAVIGATION/LONGITUDE/RAW', 'NB/PH_BOX/PH/ABSORPTION_NIR/RAW', 'NB/PH_BOX/PH/BIOFOLUING_QC/RAW', 'NB/PH_BOX/PH/BIOFOULING_QC/RAW', 'NB/PH_BOX/PH/BOX_ID/RAW', 'NB/PH_BOX/PH/CORRELATION_COEFFICIENT/RAW', 'NB/PH_BOX/PH/CUVETTE_TEMPERATURE/RAW', 'NB/PH_BOX/PH/DATETIME/RAW', 'NB/PH_BOX/PH/DYE_COMING_QC/RAW', 'NB/PH_BOX/PH/FLOW_QC/RAW', 'NB/PH_BOX/PH/PERTURBATION_COEFFICIENT/RAW', 'NB/PH_BOX/PH/PH/RAW', 'NB/PH_BOX/PH/PH_CUVETTE/RAW', 'NB/PH_BOX/PH/PH_INSITU/RAW', 'NB/PH_BOX/PH/TEMP_SENSOR_QC/RAW', 'NB/PH_BOX/PH/UDP_CONNECTION_QC/RAW', 'NB/SAMPLER/SAMPLER/AUTOMATIC_BOTTLE_COUNTER/RAW', 'NB/SAMPLER/SAMPLER/LAST_BOTTLE_NUMBER/RAW', 'NB/SAMPLER/SAMPLER/LAST_STATION_INDEX/RAW', 'NB/SAMPLER/SAMPLER/LAST_STATION_NAME/RAW', 'NB/SAMPLER/SAMPLER/MANUAL_BOTTLE_COUNTER/RAW', 'NB/SAMPLER/SAMPLER/MAX_NUMBER_OF_BOTTLES/RAW', 'NB/WEATHER/WIND/ABSOLUTE_DIRECTION/AVERAGED_1MIN', 'NB/WEATHER/WIND/ABSOLUTE_SPEED/AVERAGED_1MIN', 'NB/WEATHER/WIND/RELATIVE_DIRECTION/AVERAGED_1MIN', 'NB/WEATHER/WIND/RELATIVE_SPEED/AVERAGED_1MIN', 'NB/WIND1/ABSWINDDIR', 'NB/WIND1/ABSWINDSPD', 'NB/WIND1/RELWINDDIR', 'NB/WIND1/RELWINDSPD', 'NB/ferrybox/INLET/OPTODE/OXYGEN/CONCENTRATION', 'NB/ferrybox/INLET/OPTODE/OXYGEN/SATURATION', 'NB/ferrybox/INLET/OPTODE/TEMPERATURE', 'NB/ferrybox/RBR/OXYGEN/CONCENTRATION/ADJUSTED', 'NB/ferrybox/RBR/OXYGEN/CONCENTRATION/RAW', 'NB/ferrybox/RBR/OXYGEN/SATURATION', 'NB/ferrybox/RBR/OXYGEN/TEMPERATURE', 'NB/ferrybox/TRIOS/CYANO_FLUORESCENCE/ADJUSTED', 'NB/ferrybox/TRIOS/CYANO_FLUORESCENCE/RAW', 'NB/ferrybox/TRIOS/PAH_FLUORESCENCE/ADJUSTED', 'NB/ferrybox/TRIOS/PAH_FLUORESCENCE/RAW', 'NB/gpstrack']\n"
     ]
    }
   ],
   "source": [
    "available_paths = pyniva.get_available_parameters(platform_code='RW',\n",
    "                                                  header = header, \n",
    "                                                  meta_host = PUB_META, \n",
    "                                                  exclude_tests=True)\n",
    "\n",
    "available_paths"
   ]
  },
  {
   "cell_type": "markdown",
   "id": "82ea8fb3-f3c6-4e41-9558-a9dec853462f",
   "metadata": {
    "jupyter": {
     "outputs_hidden": false
    }
   },
   "source": [
    "## Modify the cell below (copy for the paths printed above) "
   ]
  },
  {
   "cell_type": "code",
   "execution_count": null,
   "id": "87300b71",
   "metadata": {
    "collapsed": false,
    "jupyter": {
     "outputs_hidden": false
    }
   },
   "outputs": [
    {
     "name": "stdout",
     "output_type": "stream",
     "text": [
      "Downloading data for  NB\n",
      "NB/PH_BOX/PH/PH/RAW\n",
      "NB/PH_BOX/PH/PH_CUVETTE/RAW\n",
      "no data available\n",
      "NB/PH_BOX/PH/PH_INSITU/RAW\n",
      "no data available\n",
      "NB/gpstrack\n"
     ]
    }
   ],
   "source": [
    "platform_code = 'RW'\n",
    "start_time = \"2025-02-01T00:00:00\"\n",
    "end_time = \"2025-03-09T16:00:00\"\n",
    "paths_to_download = [\n",
    "    'RW/FERRYBOX/SBE45/SALINITY/RAW','RW/INLET/SBE38/TEMPERATURE/RAW']  \n",
    "# Even if you want to download only one parameter, it has to be a list []\n",
    "fb_data = pyniva.get_ship_data(platform_code, paths_to_download, start_time, end_time, noqc=True, header = header)"
   ]
  },
  {
   "cell_type": "code",
   "execution_count": null,
   "id": "a5425fce-f79b-4d3d-bb09-e7c839c4ad1a",
   "metadata": {},
   "outputs": [
    {
     "data": {
      "text/html": [
       "<div>\n",
       "<style scoped>\n",
       "    .dataframe tbody tr th:only-of-type {\n",
       "        vertical-align: middle;\n",
       "    }\n",
       "\n",
       "    .dataframe tbody tr th {\n",
       "        vertical-align: top;\n",
       "    }\n",
       "\n",
       "    .dataframe thead th {\n",
       "        text-align: right;\n",
       "    }\n",
       "</style>\n",
       "<table border=\"1\" class=\"dataframe\">\n",
       "  <thead>\n",
       "    <tr style=\"text-align: right;\">\n",
       "      <th></th>\n",
       "      <th>index</th>\n",
       "      <th>time</th>\n",
       "      <th>NB/PH_BOX/PH/PH/RAW</th>\n",
       "      <th>longitude</th>\n",
       "      <th>latitude</th>\n",
       "    </tr>\n",
       "  </thead>\n",
       "  <tbody>\n",
       "    <tr>\n",
       "      <th>4</th>\n",
       "      <td>4</td>\n",
       "      <td>2023-03-01 00:00:00</td>\n",
       "      <td>NaN</td>\n",
       "      <td>15.626407</td>\n",
       "      <td>78.227055</td>\n",
       "    </tr>\n",
       "    <tr>\n",
       "      <th>5</th>\n",
       "      <td>5</td>\n",
       "      <td>2023-03-01 00:01:00</td>\n",
       "      <td>NaN</td>\n",
       "      <td>15.626313</td>\n",
       "      <td>78.227057</td>\n",
       "    </tr>\n",
       "    <tr>\n",
       "      <th>6</th>\n",
       "      <td>6</td>\n",
       "      <td>2023-03-01 00:02:00</td>\n",
       "      <td>NaN</td>\n",
       "      <td>15.626267</td>\n",
       "      <td>78.227058</td>\n",
       "    </tr>\n",
       "    <tr>\n",
       "      <th>7</th>\n",
       "      <td>7</td>\n",
       "      <td>2023-03-01 00:03:00</td>\n",
       "      <td>NaN</td>\n",
       "      <td>15.626277</td>\n",
       "      <td>78.227070</td>\n",
       "    </tr>\n",
       "    <tr>\n",
       "      <th>8</th>\n",
       "      <td>8</td>\n",
       "      <td>2023-03-01 00:04:00</td>\n",
       "      <td>NaN</td>\n",
       "      <td>15.626337</td>\n",
       "      <td>78.227068</td>\n",
       "    </tr>\n",
       "    <tr>\n",
       "      <th>...</th>\n",
       "      <td>...</td>\n",
       "      <td>...</td>\n",
       "      <td>...</td>\n",
       "      <td>...</td>\n",
       "      <td>...</td>\n",
       "    </tr>\n",
       "    <tr>\n",
       "      <th>9297</th>\n",
       "      <td>9297</td>\n",
       "      <td>2023-03-07 14:55:00</td>\n",
       "      <td>NaN</td>\n",
       "      <td>19.004168</td>\n",
       "      <td>69.681822</td>\n",
       "    </tr>\n",
       "    <tr>\n",
       "      <th>9298</th>\n",
       "      <td>9298</td>\n",
       "      <td>2023-03-07 14:56:00</td>\n",
       "      <td>NaN</td>\n",
       "      <td>19.004180</td>\n",
       "      <td>69.681803</td>\n",
       "    </tr>\n",
       "    <tr>\n",
       "      <th>9299</th>\n",
       "      <td>9299</td>\n",
       "      <td>2023-03-07 14:57:00</td>\n",
       "      <td>NaN</td>\n",
       "      <td>19.004185</td>\n",
       "      <td>69.681817</td>\n",
       "    </tr>\n",
       "    <tr>\n",
       "      <th>9300</th>\n",
       "      <td>9300</td>\n",
       "      <td>2023-03-07 14:58:00</td>\n",
       "      <td>NaN</td>\n",
       "      <td>19.004175</td>\n",
       "      <td>69.681810</td>\n",
       "    </tr>\n",
       "    <tr>\n",
       "      <th>9301</th>\n",
       "      <td>9301</td>\n",
       "      <td>2023-03-07 14:59:00</td>\n",
       "      <td>NaN</td>\n",
       "      <td>19.004195</td>\n",
       "      <td>69.681797</td>\n",
       "    </tr>\n",
       "  </tbody>\n",
       "</table>\n",
       "<p>9302 rows × 5 columns</p>\n",
       "</div>"
      ],
      "text/plain": [
       "      index                time  NB/PH_BOX/PH/PH/RAW  longitude   latitude\n",
       "4         4 2023-03-01 00:00:00                  NaN  15.626407  78.227055\n",
       "5         5 2023-03-01 00:01:00                  NaN  15.626313  78.227057\n",
       "6         6 2023-03-01 00:02:00                  NaN  15.626267  78.227058\n",
       "7         7 2023-03-01 00:03:00                  NaN  15.626277  78.227070\n",
       "8         8 2023-03-01 00:04:00                  NaN  15.626337  78.227068\n",
       "...     ...                 ...                  ...        ...        ...\n",
       "9297   9297 2023-03-07 14:55:00                  NaN  19.004168  69.681822\n",
       "9298   9298 2023-03-07 14:56:00                  NaN  19.004180  69.681803\n",
       "9299   9299 2023-03-07 14:57:00                  NaN  19.004185  69.681817\n",
       "9300   9300 2023-03-07 14:58:00                  NaN  19.004175  69.681810\n",
       "9301   9301 2023-03-07 14:59:00                  NaN  19.004195  69.681797\n",
       "\n",
       "[9302 rows x 5 columns]"
      ]
     },
     "execution_count": 6,
     "metadata": {},
     "output_type": "execute_result"
    }
   ],
   "source": [
    "fb_data.describe()"
   ]
  },
  {
   "cell_type": "markdown",
   "id": "101f446f",
   "metadata": {
    "tags": []
   },
   "source": [
    "### Save dataframe (you can modify path, filename)"
   ]
  },
  {
   "cell_type": "code",
   "execution_count": 30,
   "id": "f404783f",
   "metadata": {
    "collapsed": false,
    "jupyter": {
     "outputs_hidden": false
    }
   },
   "outputs": [],
   "source": [
    "path_for_file = f\"{platform_code}_{start_time}_{end_time}.csv\"\n",
    "fb_data.to_csv(path_for_file, index=False, sep=\",\")"
   ]
  }
 ],
 "metadata": {
  "kernelspec": {
   "display_name": "Python 3 (ipykernel)",
   "language": "python",
   "name": "python3"
  },
  "language_info": {
   "codemirror_mode": {
    "name": "ipython",
    "version": 3
   },
   "file_extension": ".py",
   "mimetype": "text/x-python",
   "name": "python",
   "nbconvert_exporter": "python",
   "pygments_lexer": "ipython3",
   "version": "3.10.6"
  }
 },
 "nbformat": 4,
 "nbformat_minor": 5
}
